{
 "cells": [
  {
   "cell_type": "code",
   "execution_count": 1,
   "id": "ce083262-04ae-46c9-9f85-ee09752d23f7",
   "metadata": {},
   "outputs": [
    {
     "name": "stdin",
     "output_type": "stream",
     "text": [
      "Enter the percentage 95\n"
     ]
    },
    {
     "name": "stdout",
     "output_type": "stream",
     "text": [
      "A\n"
     ]
    }
   ],
   "source": [
    "#1. Answer\n",
    "\n",
    "n=int(input('Enter the percentage'))\n",
    "if n>90:\n",
    "    print('A')\n",
    "elif n>80 and n<=90:\n",
    "    print('B')\n",
    "elif n>=60 and n<=0:\n",
    "    print('C')\n",
    "else:\n",
    "    print('D')\n"
   ]
  },
  {
   "cell_type": "code",
   "execution_count": 2,
   "id": "c9f289d5-5772-4f67-9f0e-dc4f8b921bb9",
   "metadata": {},
   "outputs": [
    {
     "name": "stdin",
     "output_type": "stream",
     "text": [
      "Enter the cost price of the bike 105000\n"
     ]
    },
    {
     "name": "stdout",
     "output_type": "stream",
     "text": [
      "Tax=15%\n"
     ]
    }
   ],
   "source": [
    "#2. Answer\n",
    "\n",
    "n=int(input('Enter the cost price of the bike'))\n",
    "if n>100000:\n",
    "    print('Tax=15%')\n",
    "elif n>50000 and n<=100000:\n",
    "    print('Tax=10%')\n",
    "elif n<=50000:\n",
    "    print('Tax=5%')\n"
   ]
  },
  {
   "cell_type": "code",
   "execution_count": 12,
   "id": "774354e5-10bf-4e13-9da7-a338683e77d7",
   "metadata": {},
   "outputs": [
    {
     "name": "stdin",
     "output_type": "stream",
     "text": [
      "Enter the name of the city delhi\n"
     ]
    },
    {
     "name": "stdout",
     "output_type": "stream",
     "text": [
      "Red Fort\n"
     ]
    }
   ],
   "source": [
    "#3. Answer\n",
    "\n",
    "n=input('Enter the name of the city')\n",
    "n=n.title()\n",
    "\n",
    "if n=='Delhi':\n",
    "    print('Red Fort')\n",
    "elif n=='Agra':\n",
    "    print('Taj Mahal')\n",
    "elif n=='Jaipur':\n",
    "    print('Jal Mahal')\n"
   ]
  },
  {
   "cell_type": "code",
   "execution_count": 13,
   "id": "073ddbb5-1a62-47e8-862c-3bc4c3b5841d",
   "metadata": {},
   "outputs": [
    {
     "name": "stdin",
     "output_type": "stream",
     "text": [
      "Enter a number:  69\n"
     ]
    },
    {
     "name": "stdout",
     "output_type": "stream",
     "text": [
      "The given number can be divided by 3 2 times before it is less than or equal to 10.\n"
     ]
    }
   ],
   "source": [
    "#4. Answer\n",
    "number = int(input(\"Enter a number: \"))\n",
    "count = 0 \n",
    "while number > 10:\n",
    "    number = number / 3\n",
    "    count = count+1\n",
    "print(\"The given number can be divided by 3\", count, \"times before it is less than or equal to 10.\")\n"
   ]
  },
  {
   "cell_type": "code",
   "execution_count": 16,
   "id": "bf93c4a8-4574-4840-aee6-66cebec645a4",
   "metadata": {},
   "outputs": [
    {
     "ename": "SyntaxError",
     "evalue": "invalid syntax (1050562445.py, line 2)",
     "output_type": "error",
     "traceback": [
      "\u001b[0;36m  Cell \u001b[0;32mIn[16], line 2\u001b[0;36m\u001b[0m\n\u001b[0;31m    The while loop is used when we want to repeatedly execute a block of code as long as a given condition remains true. The loop continues executing until the condition becomes false. Below are some examples of when to use a while loop in Python:\u001b[0m\n\u001b[0m        ^\u001b[0m\n\u001b[0;31mSyntaxError\u001b[0m\u001b[0;31m:\u001b[0m invalid syntax\n"
     ]
    }
   ],
   "source": [
    "#5. Answer\n",
    "The while loop is used when we want to repeatedly execute a block of code as long as a given condition remains true. The loop continues executing until the condition becomes false. Below are some examples of when to use a while loop in Python:\n",
    "#To print the numbers from 1 to 10:\n",
    "i = 1\n",
    "while i <= 10:\n",
    "    print(i)\n",
    "    i = i+1\n",
    "#To ask a user for a number between 1 and 10, and keep looping until they enter a valid number:\n",
    "number = -1\n",
    "while number < 1 or number > 10:\n",
    "    number = int(input(\"Enter a number between 1 and 10: \"))\n"
   ]
  },
  {
   "cell_type": "code",
   "execution_count": 18,
   "id": "bf372327-6aa5-418c-9cdf-e3ecb230fafc",
   "metadata": {},
   "outputs": [
    {
     "name": "stdout",
     "output_type": "stream",
     "text": [
      "* \n",
      "* * \n",
      "* * * \n",
      "* * * * \n",
      "* * * * * \n",
      "* * * * \n",
      "* * * * \n",
      "* * * * \n",
      "* * * * \n",
      "    *\n",
      "   ***\n",
      "  *****\n",
      " *******\n",
      "*********\n",
      " *******\n",
      "  *****\n",
      "   ***\n",
      "    *\n"
     ]
    }
   ],
   "source": [
    "#6. Answer\n",
    "#Pattern: Triangle\n",
    "n = 5\n",
    "i = 1\n",
    "while i <= n:\n",
    "    j = 1\n",
    "    while j <= i:\n",
    "        print(\"*\", end=\" \")\n",
    "        j =j+1\n",
    "    print()\n",
    "    i =i+1\n",
    "    \n",
    "#Pattern: Square\n",
    "n = 4\n",
    "i = 1\n",
    "while i <= n:\n",
    "    j = 1\n",
    "    while j <= n:\n",
    "        print(\"*\", end=\" \")\n",
    "        j = j+1\n",
    "    print()\n",
    "    i = i+1\n",
    "    \n",
    "#Pattern: Diamond\n",
    "n = 5\n",
    "i = 1\n",
    "\n",
    "# Upper half of the diamond\n",
    "while i <= n:\n",
    "    j = 1\n",
    "    while j <= n - i:\n",
    "        print(\" \", end=\"\")\n",
    "        j = j+1\n",
    "    \n",
    "    j = 1\n",
    "    while j <= 2 * i - 1:\n",
    "        print(\"*\", end=\"\")\n",
    "        j = j+1    \n",
    "    print()\n",
    "    i = i+1\n",
    "i = n - 1\n",
    "\n",
    "# Lower half of the diamond\n",
    "while i >= 1:\n",
    "    j = 1\n",
    "    while j <= n - i:\n",
    "        print(\" \", end=\"\")\n",
    "        j =j+1\n",
    "    j = 1\n",
    "    while j <= 2 * i - 1:\n",
    "        print(\"*\", end=\"\")\n",
    "        j = j+1    \n",
    "    print()\n",
    "    i = i-1\n"
   ]
  },
  {
   "cell_type": "code",
   "execution_count": 19,
   "id": "8bfde2c9-05a0-43ac-9bb1-aff6616f9ad5",
   "metadata": {},
   "outputs": [
    {
     "name": "stdout",
     "output_type": "stream",
     "text": [
      "10\n",
      "9\n",
      "8\n",
      "7\n",
      "6\n",
      "5\n",
      "4\n",
      "3\n",
      "2\n",
      "1\n"
     ]
    }
   ],
   "source": [
    "#7. Answer\n",
    "n = 10\n",
    "while n >= 1:\n",
    "    print(n)\n",
    "    n =n-1\n"
   ]
  },
  {
   "cell_type": "code",
   "execution_count": 20,
   "id": "d3855f30-f973-4e70-8286-6046fe59a57f",
   "metadata": {},
   "outputs": [
    {
     "name": "stdout",
     "output_type": "stream",
     "text": [
      "10\n",
      "9\n",
      "8\n",
      "7\n",
      "6\n",
      "5\n",
      "4\n",
      "3\n",
      "2\n",
      "1\n"
     ]
    }
   ],
   "source": [
    "#8. Answer\n",
    "k = 10\n",
    "while k >= 1:\n",
    "    print(k)\n",
    "    k =k-1\n",
    "\n"
   ]
  },
  {
   "cell_type": "code",
   "execution_count": null,
   "id": "3d132139-02b6-4951-b8b8-1539a971c3c6",
   "metadata": {},
   "outputs": [],
   "source": []
  }
 ],
 "metadata": {
  "kernelspec": {
   "display_name": "Python 3 (ipykernel)",
   "language": "python",
   "name": "python3"
  },
  "language_info": {
   "codemirror_mode": {
    "name": "ipython",
    "version": 3
   },
   "file_extension": ".py",
   "mimetype": "text/x-python",
   "name": "python",
   "nbconvert_exporter": "python",
   "pygments_lexer": "ipython3",
   "version": "3.10.8"
  }
 },
 "nbformat": 4,
 "nbformat_minor": 5
}
